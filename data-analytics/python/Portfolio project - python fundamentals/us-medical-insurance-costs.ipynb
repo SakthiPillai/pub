{
 "cells": [
  {
   "cell_type": "markdown",
   "metadata": {},
   "source": [
    "# U.S. Medical Insurance Costs\n",
    "## Project Scoping (initial)\n",
    "### Problem\n",
    "    Study insurance dataset and draw conclusions about patients, thier attributes like sex, bmi, children, smoker status and the effect on insurance costs.\n",
    "### Goals\n",
    "    Provide a report(s) of patient and their insurance costs with different possible dimensions that provide insights into factors that affect the insurance costs and the groups and geographical area they belong.\n",
    "### Data\n",
    "    Data is already available as a CSV file. \n",
    "        . Import the CSV file into python data structure\n",
    "        . Organize and prepare the data ready for analysis.\n",
    "### Analysis\n",
    "#### Some key analysis but not limited to:\n",
    "    . Average age of patients.\n",
    "        . all\n",
    "        . male\n",
    "        . female\n",
    "        . smoker\n",
    "        . non-smoker\n",
    "        . patient with at least one child\n",
    "        . region\n",
    "    . Average insurance cost\n",
    "        . all\n",
    "        . male\n",
    "        . female\n",
    "        . smoker\n",
    "        . non-smoker\n",
    "        . patient with at least one child\n",
    "        . region\n",
    "    . Average BMI\n",
    "    . Youngest age of smoker.\n",
    "    . Oldest smoker.\n",
    "    . Smoker count\n",
    "        . all\n",
    "        . male\n",
    "        . female\n",
    "        . patient with at least one child\n",
    "        . region\n",
    "    . Regional\n",
    "        . Average insurance cost\n",
    "        . Smokers count in the region\n",
    "        . Patients with at least one child in the region\n",
    "        . Average age\n",
    "        . Total no.of children\n",
    "    . Combine all the analysis in a single dictionary"
   ]
  },
  {
   "cell_type": "code",
   "execution_count": 1,
   "metadata": {},
   "outputs": [
    {
     "name": "stdout",
     "output_type": "stream",
     "text": [
      "[{'age': '19', 'sex': 'female', 'bmi': '27.9', 'children': '0', 'smoker': 'yes', 'region': 'southwest', 'charges': '16884.924'}, {'age': '18', 'sex': 'male', 'bmi': '33.77', 'children': '1', 'smoker': 'no', 'region': 'southeast', 'charges': '1725.5523'}, {'age': '28', 'sex': 'male', 'bmi': '33', 'children': '3', 'smoker': 'no', 'region': 'southeast', 'charges': '4449.462'}, {'age': '33', 'sex': 'male', 'bmi': '22.705', 'children': '0', 'smoker': 'no', 'region': 'northwest', 'charges': '21984.47061'}, {'age': '32', 'sex': 'male', 'bmi': '28.88', 'children': '0', 'smoker': 'no', 'region': 'northwest', 'charges': '3866.8552'}, {'age': '31', 'sex': 'female', 'bmi': '25.74', 'children': '0', 'smoker': 'no', 'region': 'southeast', 'charges': '3756.6216'}, {'age': '46', 'sex': 'female', 'bmi': '33.44', 'children': '1', 'smoker': 'no', 'region': 'southeast', 'charges': '8240.5896'}, {'age': '37', 'sex': 'female', 'bmi': '27.74', 'children': '3', 'smoker': 'no', 'region': 'northwest', 'charges': '7281.5056'}, {'age': '37', 'sex': 'male', 'bmi': '29.83', 'children': '2', 'smoker': 'no', 'region': 'northeast', 'charges': '6406.4107'}, {'age': '60', 'sex': 'female', 'bmi': '25.84', 'children': '0', 'smoker': 'no', 'region': 'northwest', 'charges': '28923.13692'}]\n"
     ]
    }
   ],
   "source": [
    "# Read the data from CSV into a list\n",
    "import csv\n",
    "insurance_list  = []\n",
    "with open(\"insurance.csv\") as insurance_recs:\n",
    "    insurance_list = [line for line in csv.DictReader(insurance_recs)]\n",
    "# print first 10 rows to check the result\n",
    "print(insurance_list[0:10])"
   ]
  },
  {
   "cell_type": "markdown",
   "metadata": {},
   "source": [
    "Data is now in a list ready for further break-down and analysis <br>\n",
    "* Build analytical/summary functions with parameters to summarize at different levels </p>\n",
    "* Utilise the functions with appropriate parameters for analysis at that level"
   ]
  },
  {
   "cell_type": "code",
   "execution_count": 2,
   "metadata": {},
   "outputs": [],
   "source": [
    "# Function to get average of patients based on criteria in key_value pair. \n",
    "# If key_value is blank then get average for the whole list.\n",
    "# Example usage: get_average_age(insurance_list, {\"sex\":\"male\"})\n",
    "\n",
    "def get_average_age(insurance_list, key_value=None):\n",
    "    age = 0\n",
    "    count = 0\n",
    "    # if key_value is blank, return average age for all patients\n",
    "    if not key_value:\n",
    "        for insured in insurance_list:\n",
    "            age += int(insured[\"age\"])\n",
    "            count += 1\n",
    "    else:\n",
    "        for key,value in key_value.items():\n",
    "#             print(key, value)\n",
    "            for insured in insurance_list:\n",
    "                if key == \"children\":\n",
    "                    if int(insured[key]) >= int(value):\n",
    "                        age += int(insured[\"age\"])\n",
    "                        count += 1\n",
    "                else:\n",
    "                    if insured[key] == value:\n",
    "                        age += int(insured[\"age\"])\n",
    "                        count += 1\n",
    "    # Return only if record exists to avoid zero divide error\n",
    "    if age > 0:\n",
    "        return int(age /count)\n",
    "\n",
    "# Function to get average insurance cost.     \n",
    "# If key_value is blank then get average for the whole list.\n",
    "# Example usage: get_average_insurance_cost(insurance_list)\n",
    "def get_average_insurance_cost(insurance_list, key_value=None):\n",
    "    insurance_cost = 0.0\n",
    "    count = 0\n",
    "    if not key_value:\n",
    "        for insured in insurance_list:\n",
    "            insurance_cost += float(insured[\"charges\"])\n",
    "            count += 1\n",
    "    else:\n",
    "        for key,value in key_value.items():\n",
    "#             print(key, value)\n",
    "            for insured in insurance_list:\n",
    "                if key == \"children\":\n",
    "                    if int(insured[key]) >= int(value):\n",
    "                        insurance_cost += float(insured[\"charges\"])\n",
    "                        count += 1\n",
    "                else:\n",
    "                    if insured[key] == value:\n",
    "                        insurance_cost += float(insured[\"charges\"])\n",
    "                        count += 1\n",
    "    # Return only if record exists to avoid zero divide error\n",
    "    if insurance_cost > 0:\n",
    "        return round((insurance_cost /count), 2)    \n",
    "\n",
    "# Function to get average BMI.     \n",
    "# Example usage: get_average_BMI(insurance_list)\n",
    "def get_average_insurance_BMI(insurance_list):\n",
    "    bmi = 0\n",
    "    for insured in insurance_list:\n",
    "        bmi += float(insured.get(\"bmi\"))\n",
    "    return round(bmi /len(insurance_list), 2)  \n",
    "\n",
    "#Function to get youngest smoker\n",
    "def get_youngest_smoker(insurance_list):\n",
    "    youngest_smoker = 200\n",
    "    for insured in insurance_list:\n",
    "        if insured[\"smoker\"] == \"yes\" and int(insured[\"age\"]) < youngest_smoker:\n",
    "            youngest_smoker = int(insured[\"age\"])\n",
    "    return youngest_smoker\n",
    "\n",
    "#Function to get oldest smoker\n",
    "def get_oldest_smoker(insurance_list):\n",
    "    oldest_smoker = 0\n",
    "    for insured in insurance_list:\n",
    "        if insured[\"smoker\"] == \"yes\" and int(insured[\"age\"]) > oldest_smoker:\n",
    "            oldest_smoker = int(insured[\"age\"])\n",
    "    return oldest_smoker\n",
    "\n",
    "# Function to get smoker count (all, male, female, patient with children)\n",
    "def get_smoker_count(insurance_list, key_value=None):\n",
    "    smoker_count = 0\n",
    "    if not key_value:\n",
    "        key = 0\n",
    "    else:\n",
    "        for key, value in key_value.items():\n",
    "            key, value   \n",
    "            \n",
    "    for insured in insurance_list:\n",
    "        if insured[\"smoker\"] == \"yes\":\n",
    "            if key == 0:\n",
    "                smoker_count += 1\n",
    "            elif key == \"children\" and int(insured[key]) >= int(value):\n",
    "                smoker_count += 1\n",
    "            elif insured[key] == value:\n",
    "                smoker_count += 1\n",
    "    return smoker_count\n",
    "\n",
    "# Helper function to get all regions\n",
    "def get_regions(insurance_list):    \n",
    "    region_list = []\n",
    "    for insured in insurance_list:\n",
    "        if not insured[\"region\"] in region_list:\n",
    "            region_list.append(insured[\"region\"])\n",
    "    return region_list\n",
    "\n",
    "# Helper function to get those with at least one children\n",
    "# If key_value not mentioned, it gets for the entire patient population otherwise filtered as per key_value\n",
    "# valid key_value pairs: {\"sex\":\"male\"}, {\"sex\", \"female\"}, {\"smoker\":\"yes\"}, {\"smoker\":\"yes\"}, {\"region\":<any valid region in the insurance_list>}\n",
    "def get_patients_with_children(insurance_list, key_value=None):\n",
    "    count = 0\n",
    "    if not key_value:\n",
    "        key = 0\n",
    "    else:\n",
    "        for key,value in key_value.items():\n",
    "            key,value\n",
    "        \n",
    "    for insured in insurance_list:\n",
    "        if key == 0:\n",
    "            count += 1\n",
    "        else:\n",
    "            if insured[key] == value:\n",
    "                count += 1\n",
    "    return count\n",
    "\n",
    "# Helper function get total count of children per region\n",
    "def get_children_count(insurance_list, region):\n",
    "    count = 0\n",
    "    for insured in insurance_list:\n",
    "        if insured[\"region\"] == region:\n",
    "#             print(insured[\"region\"])\n",
    "            count += 1\n",
    "    return count\n",
    "\n",
    "# Function to get regional level summaries in a dictionary for:\n",
    "    # Average insurance cost\n",
    "    # Smokers count in the region\n",
    "    # Patients with at least one child in the region\n",
    "    # Average age\n",
    "    # Total no.of children\n",
    "def get_region_summary(insurance_list, region):\n",
    "    region_dict = {\"region\":region}\n",
    "    avg_insurance_cost = get_average_insurance_cost(insurance_list, {\"region\":region})\n",
    "\n",
    "    region_dict[\"avg_insurance_cost\"] = avg_insurance_cost\n",
    "    smokers_count = get_smoker_count(insurance_list, {\"region\":region})\n",
    "    \n",
    "    region_dict[\"smokers_count\"] = smokers_count\n",
    "    with_children = get_patients_with_children(insurance_list, {\"region\":region})\n",
    "\n",
    "    region_dict[\"patients_with_children\"] = with_children\n",
    "    avg_age = get_average_age(insurance_list, {\"region\":region})\n",
    "\n",
    "    region_dict[\"avg_age\"] = avg_age\n",
    "    total_children = get_children_count(insurance_list, region)\n",
    "\n",
    "    region_dict[\"total_children\"] = total_children\n",
    "    return region_dict"
   ]
  },
  {
   "cell_type": "markdown",
   "metadata": {},
   "source": [
    "Check average age for all, male and female"
   ]
  },
  {
   "cell_type": "code",
   "execution_count": 3,
   "metadata": {},
   "outputs": [
    {
     "name": "stdout",
     "output_type": "stream",
     "text": [
      "Average age of all: 39\n",
      "Average age of male : 38\n",
      "Average age of female: 39\n"
     ]
    }
   ],
   "source": [
    "# average_age = get_average_age(insurance_list=insurance_list,key_value=None)    \n",
    "print(\"Average age of all: \" + str(get_average_age(insurance_list)))\n",
    "print(\"Average age of male : \" + str(get_average_age(insurance_list=insurance_list, key_value={\"sex\":\"male\"})))\n",
    "print(\"Average age of female: \" + str(get_average_age(insurance_list=insurance_list, key_value={\"sex\":\"female\"})))"
   ]
  },
  {
   "cell_type": "markdown",
   "metadata": {},
   "source": [
    "Test get_average_insurance_cost function by printing average insurance cost for a region"
   ]
  },
  {
   "cell_type": "code",
   "execution_count": 4,
   "metadata": {},
   "outputs": [
    {
     "name": "stdout",
     "output_type": "stream",
     "text": [
      "Average insurance cost for southwest region: 12346.94\n"
     ]
    }
   ],
   "source": [
    "print(\"Average insurance cost for southwest region: \" + str(get_average_insurance_cost(insurance_list, key_value={\"region\":\"southwest\"})))"
   ]
  },
  {
   "cell_type": "markdown",
   "metadata": {},
   "source": [
    "Average BMI is not a prominent indicator, hence overall average BMI is good enough"
   ]
  },
  {
   "cell_type": "code",
   "execution_count": 5,
   "metadata": {},
   "outputs": [
    {
     "name": "stdout",
     "output_type": "stream",
     "text": [
      "Average BMI for the entire patient population: 30.66\n"
     ]
    }
   ],
   "source": [
    "print(\"Average BMI for the entire patient population: \" + str(get_average_insurance_BMI(insurance_list=insurance_list)))"
   ]
  },
  {
   "cell_type": "markdown",
   "metadata": {},
   "source": [
    "Check the age of youngest smoker as smoking can have a significant impact on insurance costs."
   ]
  },
  {
   "cell_type": "code",
   "execution_count": 6,
   "metadata": {},
   "outputs": [
    {
     "name": "stdout",
     "output_type": "stream",
     "text": [
      "Youngest smoker: 18\n"
     ]
    }
   ],
   "source": [
    "print(\"Youngest smoker: \" + str(get_youngest_smoker(insurance_list=insurance_list)))"
   ]
  },
  {
   "cell_type": "markdown",
   "metadata": {},
   "source": [
    "Smoker status alongwith age adds to the insurance cost even higher. It is an important factor too."
   ]
  },
  {
   "cell_type": "code",
   "execution_count": 7,
   "metadata": {},
   "outputs": [
    {
     "name": "stdout",
     "output_type": "stream",
     "text": [
      "Oldest smoker: 64\n"
     ]
    }
   ],
   "source": [
    "print(\"Oldest smoker: \" + str(get_oldest_smoker(insurance_list=insurance_list)))"
   ]
  },
  {
   "cell_type": "markdown",
   "metadata": {},
   "source": [
    "Overall insurance premium costs can vary depending on the no of smokers"
   ]
  },
  {
   "cell_type": "code",
   "execution_count": 8,
   "metadata": {},
   "outputs": [
    {
     "name": "stdout",
     "output_type": "stream",
     "text": [
      "Smoker count for all patients: 274\n"
     ]
    }
   ],
   "source": [
    "print(\"Smoker count for all patients: \" + str(get_smoker_count(insurance_list=insurance_list)))"
   ]
  },
  {
   "cell_type": "markdown",
   "metadata": {},
   "source": [
    "Test get_children_count function that will be used in Region level summaries"
   ]
  },
  {
   "cell_type": "code",
   "execution_count": 9,
   "metadata": {},
   "outputs": [
    {
     "name": "stdout",
     "output_type": "stream",
     "text": [
      "364\n"
     ]
    }
   ],
   "source": [
    "print(get_children_count(insurance_list, \"southeast\"))"
   ]
  },
  {
   "cell_type": "markdown",
   "metadata": {},
   "source": [
    "The major contributors to insurance costs are:\n",
    "* smoker status\n",
    "* age\n",
    "* dependent children. \n",
    "\n",
    "Only these factors that are included at regional level. The others can be obtained at country level. "
   ]
  },
  {
   "cell_type": "code",
   "execution_count": 10,
   "metadata": {},
   "outputs": [
    {
     "name": "stdout",
     "output_type": "stream",
     "text": [
      "{'region': 'southwest', 'avg_insurance_cost': 12346.94, 'smokers_count': 58, 'patients_with_children': 325, 'avg_age': 39, 'total_children': 325}\n",
      "{'region': 'southeast', 'avg_insurance_cost': 14735.41, 'smokers_count': 91, 'patients_with_children': 364, 'avg_age': 38, 'total_children': 364}\n",
      "{'region': 'northwest', 'avg_insurance_cost': 12417.58, 'smokers_count': 58, 'patients_with_children': 325, 'avg_age': 39, 'total_children': 325}\n",
      "{'region': 'northeast', 'avg_insurance_cost': 13406.38, 'smokers_count': 67, 'patients_with_children': 324, 'avg_age': 39, 'total_children': 324}\n"
     ]
    }
   ],
   "source": [
    "region_list = get_regions(insurance_list)\n",
    "for region in region_list:\n",
    "    print(get_region_summary(insurance_list, region))"
   ]
  },
  {
   "cell_type": "markdown",
   "metadata": {},
   "source": [
    "Combine all the analysis in a dictionary so that overall country wide summaries and regional level summaries are accessible:\n",
    "* The format will be as:\n",
    "    * {Countrywide: [{Average age of patients}, {Average insurance cost},{Average_BMI}, {Youngest smoker}, {Oldest Smoker}, {Smokers count}], Regionwide: [{Regional summaries}]}"
   ]
  },
  {
   "cell_type": "code",
   "execution_count": 11,
   "metadata": {},
   "outputs": [
    {
     "name": "stdout",
     "output_type": "stream",
     "text": [
      "{'Countrywide': [{'avg_age': {'all': 39, 'male': 38, 'female': 39, 'smoker': 38, 'non-smoker': 39, 'with_children': 39}}, {'avg_ins_cost': {'all': 13270.42, 'male': 13956.75, 'female': 12569.58, 'smoker': 32050.23, 'non-smoker': 8434.27, 'with_children': 13949.94}}, {'avg_bmi': 30.66}, {'youngest_smoker': 18}, {'oldest_smoker': 64}, {'smokers': 274}], 'Regionwide': [{'region': 'southwest', 'avg_insurance_cost': 12346.94, 'smokers_count': 58, 'patients_with_children': 325, 'avg_age': 39, 'total_children': 325}, {'region': 'southeast', 'avg_insurance_cost': 14735.41, 'smokers_count': 91, 'patients_with_children': 364, 'avg_age': 38, 'total_children': 364}, {'region': 'northwest', 'avg_insurance_cost': 12417.58, 'smokers_count': 58, 'patients_with_children': 325, 'avg_age': 39, 'total_children': 325}, {'region': 'northeast', 'avg_insurance_cost': 13406.38, 'smokers_count': 67, 'patients_with_children': 324, 'avg_age': 39, 'total_children': 324}]}\n"
     ]
    }
   ],
   "source": [
    "# create average age dictionary\n",
    "average_age_dict = {\"avg_age\": {\"all\": get_average_age(insurance_list), \n",
    "                                \"male\":get_average_age(insurance_list=insurance_list, key_value={\"sex\":\"male\"}),\n",
    "                                \"female\":get_average_age(insurance_list=insurance_list, key_value={\"sex\":\"female\"}),\n",
    "                                \"smoker\":get_average_age(insurance_list=insurance_list, key_value={\"smoker\":\"yes\"}),\n",
    "                                \"non-smoker\":get_average_age(insurance_list=insurance_list, key_value={\"smoker\":\"no\"}),\n",
    "                                \"with_children\":get_average_age(insurance_list=insurance_list, key_value={\"children\":\"1\"})\n",
    "                                   }}\n",
    "# print(average_age_dict)\n",
    "\n",
    "# create average insurance cost dictionary\n",
    "avg_ins_cost_dic = {\"avg_ins_cost\":{\"all\":get_average_insurance_cost(insurance_list),\n",
    "                                    \"male\":get_average_insurance_cost(insurance_list, {\"sex\":\"male\"}),\n",
    "                                    \"female\":get_average_insurance_cost(insurance_list, {\"sex\":\"female\"}),\n",
    "                                    \"smoker\":get_average_insurance_cost(insurance_list, {\"smoker\":\"yes\"}),\n",
    "                                    \"non-smoker\":get_average_insurance_cost(insurance_list, {\"smoker\":\"no\"}),\n",
    "                                    \"with_children\":get_average_insurance_cost(insurance_list, {\"children\":\"1\"})\n",
    "                                               }}\n",
    "# print(avg_ins_cost_dic)\n",
    "\n",
    "# create avg_bmi dict\n",
    "avg_bmi_dict = {\"avg_bmi\":get_average_insurance_BMI(insurance_list)}\n",
    "# print(avg_bmi_dict)\n",
    "\n",
    "# youngest smoker dict\n",
    "youngest_smoker_dict = {\"youngest_smoker\":get_youngest_smoker(insurance_list)}\n",
    "# print(youngest_smoker_dict)\n",
    "\n",
    "# oldest smoker dict\n",
    "oldest_smoker_dict = {\"oldest_smoker\":get_oldest_smoker(insurance_list)}\n",
    "# print(oldest_smoker_dict)\n",
    "\n",
    "# smokers count dict\n",
    "smokers_count = {\"smokers\":get_smoker_count(insurance_list)}\n",
    "# print(smokers_count)\n",
    "\n",
    "# create a list of all the values for country level\n",
    "country_summary_list = [average_age_dict, avg_ins_cost_dic, avg_bmi_dict, youngest_smoker_dict, oldest_smoker_dict, smokers_count]\n",
    "# print(country_summary_list)\n",
    "\n",
    "# create a list of all the values for regional level\n",
    "region_summary_list = [get_region_summary(insurance_list, region) for region in (get_regions(insurance_list))]\n",
    "# print(region_summary_list)\n",
    "\n",
    "# Finally create master summary dictionary that holds country and regional level summaries\n",
    "final_dict = {\"Countrywide\":country_summary_list, \"Regionwide\":region_summary_list}\n",
    "print(final_dict)"
   ]
  },
  {
   "cell_type": "code",
   "execution_count": null,
   "metadata": {},
   "outputs": [],
   "source": []
  }
 ],
 "metadata": {
  "kernelspec": {
   "display_name": "Python 3 (ipykernel)",
   "language": "python",
   "name": "python3"
  },
  "language_info": {
   "codemirror_mode": {
    "name": "ipython",
    "version": 3
   },
   "file_extension": ".py",
   "mimetype": "text/x-python",
   "name": "python",
   "nbconvert_exporter": "python",
   "pygments_lexer": "ipython3",
   "version": "3.10.9"
  }
 },
 "nbformat": 4,
 "nbformat_minor": 4
}
